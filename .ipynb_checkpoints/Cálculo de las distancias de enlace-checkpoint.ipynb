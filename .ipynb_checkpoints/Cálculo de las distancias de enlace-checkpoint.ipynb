{
 "cells": [
  {
   "cell_type": "code",
   "execution_count": 1,
   "metadata": {
    "collapsed": true
   },
   "outputs": [],
   "source": [
    "import __main__\n",
    "__main__.pymol_argv = ['pymol','-qc'] # Pymol: quiet and no GUI\n",
    "import sys, pymol\n",
    "from pymol import cmd, stored\n",
    "stdout = sys.stdout\n",
    "pymol.finish_launching()\n",
    "sys.stdout = stdout \n",
    "import re\n",
    "import numpy as np\n",
    "import matplotlib.pyplot as plt\n",
    "import seaborn as sns"
   ]
  },
  {
   "cell_type": "markdown",
   "metadata": {},
   "source": [
    "Calcular las distancias de enlace C $\\alpha$ - H $\\alpha$, C $\\alpha$ - N y C $\\alpha$ - C', para una asamblea de ubiquitinas."
   ]
  },
  {
   "cell_type": "code",
   "execution_count": 2,
   "metadata": {
    "collapsed": false
   },
   "outputs": [
    {
     "name": "stdout",
     "output_type": "stream",
     "text": [
      "[1.1052935123443604, 1.1061739921569824, 1.106318712234497]\n"
     ]
    }
   ],
   "source": [
    "pdb_file_name ='alanine_beta.pdb'\n",
    "cmd.load(pdb_file_name)\n",
    "\n",
    "stored.ResiduesNumber = []\n",
    "cmd.iterate('all', 'stored.ResiduesNumber.append((resi))')\n",
    "stored.ResiduesNumber = np.unique(stored.ResiduesNumber)\n",
    "\n",
    "count = 0\n",
    "for i in stored.ResiduesNumber:\n",
    "    cmd.alter('resi %s' % (i), 'resi = %s' % (count))\n",
    "    count = count + 1\n",
    "    cmd.sort()\n",
    "    \n",
    "#pdb_file_name = cmd.save('%s_tested.pdb' % (pdb_file_name), 'all')\n",
    "n_residues = cmd.count_atoms('name CA')\n",
    "distance = []\n",
    "for s in range(cmd.count_states('all')):\n",
    "    for n in range(n_residues):\n",
    "        dst = cmd.get_distance('resi %s and name CA'%(n),'resi %s and name HA'%(n))\n",
    "        distance.append(dst)\n",
    "        \n",
    "print distance       "
   ]
  },
  {
   "cell_type": "code",
   "execution_count": null,
   "metadata": {
    "collapsed": true
   },
   "outputs": [],
   "source": []
  },
  {
   "cell_type": "code",
   "execution_count": null,
   "metadata": {
    "collapsed": false
   },
   "outputs": [],
   "source": [
    "sns.boxplot(x = np.arange(len(stored.ResiduesNumber)), y = distance)"
   ]
  }
 ],
 "metadata": {
  "kernelspec": {
   "display_name": "Python 2",
   "language": "python",
   "name": "python2"
  },
  "language_info": {
   "codemirror_mode": {
    "name": "ipython",
    "version": 2
   },
   "file_extension": ".py",
   "mimetype": "text/x-python",
   "name": "python",
   "nbconvert_exporter": "python",
   "pygments_lexer": "ipython2",
   "version": "2.7.12"
  }
 },
 "nbformat": 4,
 "nbformat_minor": 0
}
