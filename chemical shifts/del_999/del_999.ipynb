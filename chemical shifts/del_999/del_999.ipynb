{
 "cells": [
  {
   "cell_type": "code",
   "execution_count": 1,
   "metadata": {
    "collapsed": true
   },
   "outputs": [],
   "source": [
    "import numpy as np\n",
    "import pandas as pd\n",
    "import os"
   ]
  },
  {
   "cell_type": "code",
   "execution_count": 2,
   "metadata": {},
   "outputs": [],
   "source": [
    "directory = os.listdir('../disaccharides')"
   ]
  },
  {
   "cell_type": "code",
   "execution_count": 4,
   "metadata": {},
   "outputs": [],
   "source": [
    "for file in directory:\n",
    "    df = pd.read_csv('../disaccharides/{}'.format(file), delim_whitespace=True)\n",
    "    df = df.replace(to_replace=999.9999, value=np.NAN)\n",
    "    text = df.dropna()\n",
    "    nored = file.split('_')[-1]\n",
    "    red = file.split('_')[-2]\n",
    "    try:\n",
    "        if file.split('_')[-1] != 'red':\n",
    "            np.savetxt('../{}'.format(nored), text, delimiter=' ', \n",
    "                       fmt=('%4.f', '%4.f', '%4.f', '%4.f','%4.f', '%4.f', '%10.4f', '%8.4f'))\n",
    "        else:\n",
    "            np.savetxt('../{}_red'.format(red), text, delimiter=' ', \n",
    "                       fmt=('%4.f', '%4.f', '%8.4f', '%6.4f'))\n",
    "    except:\n",
    "        np.savetxt('../{}_red'.format(red), text, delimiter=' ', \n",
    "                   fmt=('%4.f', '%4.f','%4.f', '%8.4f', '%6.4f'))"
   ]
  },
  {
   "cell_type": "code",
   "execution_count": null,
   "metadata": {
    "collapsed": true
   },
   "outputs": [],
   "source": []
  }
 ],
 "metadata": {
  "kernelspec": {
   "display_name": "Python 3",
   "language": "python",
   "name": "python3"
  },
  "language_info": {
   "codemirror_mode": {
    "name": "ipython",
    "version": 3
   },
   "file_extension": ".py",
   "mimetype": "text/x-python",
   "name": "python",
   "nbconvert_exporter": "python",
   "pygments_lexer": "ipython3",
   "version": "3.5.2"
  }
 },
 "nbformat": 4,
 "nbformat_minor": 2
}
